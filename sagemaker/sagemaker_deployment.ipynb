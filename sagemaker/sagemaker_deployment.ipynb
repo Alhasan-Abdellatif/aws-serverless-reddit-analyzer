{
 "cells": [
  {
   "cell_type": "code",
   "execution_count": 1,
   "id": "1ae04d88-a5ce-4e4b-a5e0-b8a5f4c89dcf",
   "metadata": {},
   "outputs": [
    {
     "name": "stdout",
     "output_type": "stream",
     "text": [
      "sagemaker.config INFO - Not applying SDK defaults from location: /etc/xdg/sagemaker/config.yaml\n",
      "sagemaker.config INFO - Not applying SDK defaults from location: /home/ec2-user/.config/sagemaker/config.yaml\n"
     ]
    }
   ],
   "source": [
    "import boto3\n",
    "import sagemaker\n",
    "\n"
   ]
  },
  {
   "cell_type": "code",
   "execution_count": 2,
   "id": "ef0779cd-61cf-4a6a-934e-e0c9a55082f1",
   "metadata": {},
   "outputs": [],
   "source": [
    "from sagemaker.huggingface import HuggingFaceModel\n"
   ]
  },
  {
   "cell_type": "code",
   "execution_count": 3,
   "id": "eecf2a48-090f-4496-9872-6062e3d522b1",
   "metadata": {},
   "outputs": [],
   "source": [
    "try:\n",
    "    role = sagemaker.get_execution_role()\n",
    "except ValueError:\n",
    "    iam = boto3.client('iam')\n",
    "    role = iam.get_role(RoleName='sagemaker_execution_role')['Role']['Arn']\n"
   ]
  },
  {
   "cell_type": "code",
   "execution_count": 4,
   "id": "6b2a2181-551e-458b-9bb8-36cc9acd4b56",
   "metadata": {},
   "outputs": [],
   "source": [
    "# Hub Model configuration. https://huggingface.co/models\n",
    "hub = {\n",
    "    'HF_MODEL_ID':'facebook/roberta-hate-speech-dynabench-r4-target',\n",
    "    'HF_TASK':'text-classification'\n",
    "}"
   ]
  },
  {
   "cell_type": "code",
   "execution_count": 5,
   "id": "92f501af-1e93-4a58-95ad-9bc81a4957fd",
   "metadata": {},
   "outputs": [],
   "source": [
    "# create Hugging Face Model Class\n",
    "huggingface_model = HuggingFaceModel(\n",
    "    transformers_version='4.49.0',\n",
    "    pytorch_version='2.6.0',\n",
    "    py_version='py312',\n",
    "    env=hub,\n",
    "    role=role,\n",
    ")"
   ]
  },
  {
   "cell_type": "code",
   "execution_count": 9,
   "id": "2d8eb94b-ef0b-4393-9709-c1b9dd285182",
   "metadata": {},
   "outputs": [],
   "source": [
    "\n",
    "from sagemaker.serverless import ServerlessInferenceConfig\n",
    "\n",
    "def serverless_inference_config():\n",
    "    return ServerlessInferenceConfig(\n",
    "        memory_size_in_mb=2048, # Adjust memory as needed (e.g., 1024, 2048, 3072...)\n",
    "        max_concurrency=1,      # Max number of concurrent requests\n",
    "    )"
   ]
  },
  {
   "cell_type": "code",
   "execution_count": null,
   "id": "ebae6270-84f8-4c85-a003-ad2316cf6fc2",
   "metadata": {},
   "outputs": [],
   "source": [
    "# Deploy using the serverless config\n",
    "predictor = huggingface_model.deploy(\n",
    "  serverless_inference_config=serverless_inference_config(),\n",
    "  endpoint_name='fb-hatespeech-reddit' # Give it a new name\n",
    ")\n"
   ]
  },
  {
   "cell_type": "code",
   "execution_count": 6,
   "id": "7b69bb01-bc2b-4eaf-9602-d5aee9c6b9e0",
   "metadata": {},
   "outputs": [
    {
     "name": "stdout",
     "output_type": "stream",
     "text": [
      "------!"
     ]
    }
   ],
   "source": [
    "# deploy model to SageMaker Inference (live endpoint)\n",
    "#predictor = huggingface_model.deploy(\n",
    "#    initial_instance_count=1, # number of instances\n",
    "#    instance_type='ml.m5.xlarge' # ec2 instance type\n",
    "#)"
   ]
  },
  {
   "cell_type": "code",
   "execution_count": 16,
   "id": "b36660ee-b900-4986-b3dd-e55d3d534029",
   "metadata": {},
   "outputs": [
    {
     "name": "stdout",
     "output_type": "stream",
     "text": [
      "[{'label': 'hate', 'score': 0.9991140961647034}]\n"
     ]
    }
   ],
   "source": [
    "# Define the text you want to classify\n",
    "data = {\n",
    "   \"inputs\": \"Go back to your country\"\n",
    "}\n",
    "\n",
    "# Send the data to the endpoint for a prediction\n",
    "prediction = predictor.predict(data)\n",
    "\n",
    "# Print the result\n",
    "print(prediction)"
   ]
  },
  {
   "cell_type": "code",
   "execution_count": null,
   "id": "e321cbdf-42ed-49fe-8317-246f4581e61d",
   "metadata": {},
   "outputs": [],
   "source": []
  }
 ],
 "metadata": {
  "kernelspec": {
   "display_name": "conda_pytorch_p310",
   "language": "python",
   "name": "conda_pytorch_p310"
  },
  "language_info": {
   "codemirror_mode": {
    "name": "ipython",
    "version": 3
   },
   "file_extension": ".py",
   "mimetype": "text/x-python",
   "name": "python",
   "nbconvert_exporter": "python",
   "pygments_lexer": "ipython3",
   "version": "3.10.14"
  }
 },
 "nbformat": 4,
 "nbformat_minor": 5
}
